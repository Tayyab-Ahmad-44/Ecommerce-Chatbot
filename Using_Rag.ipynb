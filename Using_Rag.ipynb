{
 "cells": [
  {
   "cell_type": "code",
   "execution_count": 1,
   "metadata": {},
   "outputs": [],
   "source": [
    "import os\n",
    "from langchain_community.embeddings import HuggingFaceBgeEmbeddings\n",
    "from langchain_text_splitters import RecursiveCharacterTextSplitter\n",
    "from langchain_community.chat_models import ChatHuggingFace\n",
    "from langchain.llms import HuggingFaceHub\n",
    "from langchain.prompts import PromptTemplate\n",
    "from langchain.document_loaders import CSVLoader \n",
    "from langchain.vectorstores import FAISS\n",
    "from langchain.chains import RetrievalQA\n",
    "from langchain_groq import ChatGroq\n",
    "from dotenv import load_dotenv "
   ]
  },
  {
   "cell_type": "code",
   "execution_count": 2,
   "metadata": {},
   "outputs": [
    {
     "data": {
      "text/plain": [
       "True"
      ]
     },
     "execution_count": 2,
     "metadata": {},
     "output_type": "execute_result"
    }
   ],
   "source": [
    "load_dotenv()"
   ]
  },
  {
   "cell_type": "code",
   "execution_count": 3,
   "metadata": {},
   "outputs": [],
   "source": [
    "loader = CSVLoader('train_expanded.csv')\n",
    "data = loader.load()"
   ]
  },
  {
   "cell_type": "code",
   "execution_count": 4,
   "metadata": {},
   "outputs": [],
   "source": [
    "text_splitter = RecursiveCharacterTextSplitter(\n",
    "    chunk_size=512,\n",
    "    chunk_overlap=150\n",
    ")"
   ]
  },
  {
   "cell_type": "code",
   "execution_count": 5,
   "metadata": {},
   "outputs": [
    {
     "data": {
      "text/plain": [
       "200"
      ]
     },
     "execution_count": 5,
     "metadata": {},
     "output_type": "execute_result"
    }
   ],
   "source": [
    "chunks = text_splitter.split_documents(data)\n",
    "len(chunks)"
   ]
  },
  {
   "cell_type": "code",
   "execution_count": null,
   "metadata": {},
   "outputs": [],
   "source": [
    "docs = [chunk.page_content for chunk in chunks]\n",
    "docs"
   ]
  },
  {
   "cell_type": "code",
   "execution_count": 6,
   "metadata": {},
   "outputs": [
    {
     "name": "stderr",
     "output_type": "stream",
     "text": [
      "t:\\Maktek-Task\\env\\Lib\\site-packages\\sentence_transformers\\cross_encoder\\CrossEncoder.py:11: TqdmWarning: IProgress not found. Please update jupyter and ipywidgets. See https://ipywidgets.readthedocs.io/en/stable/user_install.html\n",
      "  from tqdm.autonotebook import tqdm, trange\n"
     ]
    }
   ],
   "source": [
    "## Embedding Using Huggingface\n",
    "huggingface_embeddings=HuggingFaceBgeEmbeddings(\n",
    "    model_name=\"BAAI/bge-small-en-v1.5\",  \n",
    "    model_kwargs={'device':'cpu'},\n",
    "    encode_kwargs={'normalize_embeddings':True}\n",
    "\n",
    ")"
   ]
  },
  {
   "cell_type": "code",
   "execution_count": 7,
   "metadata": {},
   "outputs": [
    {
     "data": {
      "text/plain": [
       "[-0.01635267212986946,\n",
       " -0.04538872465491295,\n",
       " -0.03867955505847931,\n",
       " 0.004661990329623222,\n",
       " -0.05257056653499603,\n",
       " 0.09981826692819595,\n",
       " 0.04248807951807976,\n",
       " 0.009214378893375397,\n",
       " 0.01786765083670616,\n",
       " -0.015138610266149044,\n",
       " 0.02676539309322834,\n",
       " -0.01927202381193638,\n",
       " -0.002228539204224944,\n",
       " -0.011905294843018055,\n",
       " 0.04070347175002098,\n",
       " 0.05208386108279228,\n",
       " -0.07902739942073822,\n",
       " 0.007584760896861553,\n",
       " -0.03155503422021866,\n",
       " 0.0566803403198719,\n",
       " -0.04390163719654083,\n",
       " 0.009192083962261677,\n",
       " 0.028469102457165718,\n",
       " 0.0011489397147670388,\n",
       " 0.010585298761725426,\n",
       " -0.039674315601587296,\n",
       " -0.0009086871868930757,\n",
       " 0.045808710157871246,\n",
       " -0.036040209233760834,\n",
       " -0.053454820066690445,\n",
       " 0.012678314931690693,\n",
       " -0.06173388659954071,\n",
       " 0.0521811805665493,\n",
       " -0.027669573202729225,\n",
       " 0.0060242242179811,\n",
       " -0.011176963336765766,\n",
       " 0.008166760206222534,\n",
       " -0.0017111579654738307,\n",
       " -0.016264716163277626,\n",
       " -0.0038718378636986017,\n",
       " -0.002357251476496458,\n",
       " -0.022841207683086395,\n",
       " -0.03287297487258911,\n",
       " -0.027283012866973877,\n",
       " 0.07238762080669403,\n",
       " 0.04879890754818916,\n",
       " 0.08267819881439209,\n",
       " 0.025693681091070175,\n",
       " 0.07476774603128433,\n",
       " 0.03884533420205116,\n",
       " 0.02982431650161743,\n",
       " -0.04819565266370773,\n",
       " -0.0008264410425908864,\n",
       " -0.03548947721719742,\n",
       " -0.023770738393068314,\n",
       " 0.058459602296352386,\n",
       " -0.016231417655944824,\n",
       " 0.026284657418727875,\n",
       " -0.020654650405049324,\n",
       " -0.03819920867681503,\n",
       " 0.023236101493239403,\n",
       " 0.01782546192407608,\n",
       " -0.12038604170084,\n",
       " 0.14357590675354004,\n",
       " -0.06402000039815903,\n",
       " 0.04445156455039978,\n",
       " -0.013540648855268955,\n",
       " 0.03967665135860443,\n",
       " -0.012219512835144997,\n",
       " 0.0533723421394825,\n",
       " -0.06885406374931335,\n",
       " -0.04642898589372635,\n",
       " -0.09354095906019211,\n",
       " 0.041801176965236664,\n",
       " -0.03795228898525238,\n",
       " -0.00313754309900105,\n",
       " 0.04955921694636345,\n",
       " 0.009562320075929165,\n",
       " 0.06258383393287659,\n",
       " 0.023852316662669182,\n",
       " -0.039863407611846924,\n",
       " 0.037034060806035995,\n",
       " 0.005577731877565384,\n",
       " 0.025037795305252075,\n",
       " -0.03130275011062622,\n",
       " -0.003314854810014367,\n",
       " 0.027118023484945297,\n",
       " 0.03494865819811821,\n",
       " -0.05138751491904259,\n",
       " 0.013996374793350697,\n",
       " 0.03488731384277344,\n",
       " -0.004348338581621647,\n",
       " 0.03923312574625015,\n",
       " -0.037336867302656174,\n",
       " -0.046592794358730316,\n",
       " -0.02049577236175537,\n",
       " 0.032247547060251236,\n",
       " -0.00857576634734869,\n",
       " -0.07900965958833694,\n",
       " 0.33992430567741394,\n",
       " -0.033328577876091,\n",
       " 0.020669203251600266,\n",
       " 0.015661023557186127,\n",
       " -0.042655639350414276,\n",
       " -0.01721847802400589,\n",
       " -0.003969760611653328,\n",
       " -0.011616612784564495,\n",
       " 0.035560328513383865,\n",
       " 0.029418472200632095,\n",
       " -0.043471042066812515,\n",
       " -0.04409916326403618,\n",
       " -0.046600740402936935,\n",
       " -0.03202376514673233,\n",
       " -0.06440342962741852,\n",
       " -0.01521496381610632,\n",
       " 0.02002345584332943,\n",
       " -0.0613175705075264,\n",
       " 0.04476252943277359,\n",
       " 0.019401712343096733,\n",
       " -0.05288439616560936,\n",
       " 0.025494851171970367,\n",
       " -0.004716596566140652,\n",
       " 0.04027067497372627,\n",
       " -0.034243274480104446,\n",
       " 0.05570899695158005,\n",
       " 0.03229229897260666,\n",
       " 0.002025179797783494,\n",
       " 0.08981426805257797,\n",
       " -0.04669594019651413,\n",
       " 0.021450968459248543,\n",
       " 0.042492758482694626,\n",
       " 0.01186308916658163,\n",
       " -0.1008637323975563,\n",
       " -0.07399428635835648,\n",
       " 0.024288374930620193,\n",
       " -0.03649657219648361,\n",
       " -0.052231770008802414,\n",
       " 0.02188221737742424,\n",
       " 0.005605416838079691,\n",
       " 0.05694782733917236,\n",
       " -0.03702312335371971,\n",
       " -0.029976006597280502,\n",
       " 0.0158061683177948,\n",
       " -0.0583188571035862,\n",
       " -0.015518225729465485,\n",
       " 0.04904156178236008,\n",
       " 0.0038658003322780132,\n",
       " 0.051042795181274414,\n",
       " -0.05679601803421974,\n",
       " -0.032994527369737625,\n",
       " 0.005190689116716385,\n",
       " -0.027238506823778152,\n",
       " -0.07556162774562836,\n",
       " -0.08017677068710327,\n",
       " -0.00040085118962451816,\n",
       " 0.022650549188256264,\n",
       " 0.10608023405075073,\n",
       " -0.015550186857581139,\n",
       " -0.005731130484491587,\n",
       " -0.06697317957878113,\n",
       " 0.002761661307886243,\n",
       " 0.009890054352581501,\n",
       " 0.016698511317372322,\n",
       " 0.054237909615039825,\n",
       " 0.05542433634400368,\n",
       " -0.1764267534017563,\n",
       " -0.02820674143731594,\n",
       " -0.0021633801516145468,\n",
       " 0.005690486170351505,\n",
       " -0.01432050485163927,\n",
       " -0.052545297890901566,\n",
       " -0.010058537125587463,\n",
       " -0.050331536680459976,\n",
       " 0.026695474982261658,\n",
       " 0.1438273936510086,\n",
       " -0.027003735303878784,\n",
       " 0.0029114708304405212,\n",
       " 0.0043379440903663635,\n",
       " 0.04588592052459717,\n",
       " -0.002982915611937642,\n",
       " 0.04696931689977646,\n",
       " -0.06460466235876083,\n",
       " -0.00187450903467834,\n",
       " -0.029117194935679436,\n",
       " -0.05802508816123009,\n",
       " -0.03574484586715698,\n",
       " -0.016910184174776077,\n",
       " -0.053613968193531036,\n",
       " -0.021024104207754135,\n",
       " 0.012909119948744774,\n",
       " 0.002578363288193941,\n",
       " 0.01701616682112217,\n",
       " -0.11848743259906769,\n",
       " -0.05546916648745537,\n",
       " -0.02402721717953682,\n",
       " 0.024660123512148857,\n",
       " 0.011160288006067276,\n",
       " -0.07540891319513321,\n",
       " 0.0619683600962162,\n",
       " 0.004324214532971382,\n",
       " 0.03301450237631798,\n",
       " -0.01306813582777977,\n",
       " -0.03419048711657524,\n",
       " -0.004326424561440945,\n",
       " 0.021829120814800262,\n",
       " 0.07936083525419235,\n",
       " 0.08452585339546204,\n",
       " -0.008684282191097736,\n",
       " 0.11599354445934296,\n",
       " 0.024195218458771706,\n",
       " -0.05424044653773308,\n",
       " 0.025316908955574036,\n",
       " 0.009072213433682919,\n",
       " -0.024365810677409172,\n",
       " 0.009085346013307571,\n",
       " -0.010049430653452873,\n",
       " -0.002781226532533765,\n",
       " -0.0013865496730431914,\n",
       " -0.0015655166935175657,\n",
       " 0.03271935507655144,\n",
       " 0.0429314449429512,\n",
       " -0.048870425671339035,\n",
       " -0.0036320697981864214,\n",
       " -0.24871312081813812,\n",
       " -0.010241233743727207,\n",
       " 0.0034614158794283867,\n",
       " 0.07452740520238876,\n",
       " -0.010209564119577408,\n",
       " -0.0496210902929306,\n",
       " 0.03813346475362778,\n",
       " 0.08374639600515366,\n",
       " 0.0023787023965269327,\n",
       " 0.1030796617269516,\n",
       " 0.1357860565185547,\n",
       " -0.0522998683154583,\n",
       " 0.03878648206591606,\n",
       " -0.05694332718849182,\n",
       " -0.014467901550233364,\n",
       " 0.020869599655270576,\n",
       " 0.03384079411625862,\n",
       " 0.014715340919792652,\n",
       " 0.11165621876716614,\n",
       " -0.03741530701518059,\n",
       " -0.03162085637450218,\n",
       " -0.05280030146241188,\n",
       " 0.042513493448495865,\n",
       " -0.0305491890758276,\n",
       " 0.013674813322722912,\n",
       " -0.030595997348427773,\n",
       " 0.08502771705389023,\n",
       " 0.03892898932099342,\n",
       " -0.00475821178406477,\n",
       " -0.04653965309262276,\n",
       " 0.06981529295444489,\n",
       " -0.03525971621274948,\n",
       " -0.05436522886157036,\n",
       " -0.08665318787097931,\n",
       " 0.02956562116742134,\n",
       " -0.013970896601676941,\n",
       " -0.029997581616044044,\n",
       " 0.03731350600719452,\n",
       " 0.014395708218216896,\n",
       " -0.06953562796115875,\n",
       " -0.017710410058498383,\n",
       " -0.023011377081274986,\n",
       " -0.0261661559343338,\n",
       " 0.017255138605833054,\n",
       " -0.01512184552848339,\n",
       " -0.0070870970375835896,\n",
       " -0.07286614924669266,\n",
       " 0.05909689888358116,\n",
       " 0.035513512790203094,\n",
       " 0.011323177255690098,\n",
       " 0.03260763734579086,\n",
       " 0.05916488915681839,\n",
       " 0.0037985104136168957,\n",
       " 0.07380371540784836,\n",
       " -0.06049564480781555,\n",
       " -0.028538832440972328,\n",
       " -0.04864583909511566,\n",
       " -0.0012545357458293438,\n",
       " -0.05399561673402786,\n",
       " 0.09126187115907669,\n",
       " 0.034730516374111176,\n",
       " 0.02159072458744049,\n",
       " -0.035563405603170395,\n",
       " -0.01283993385732174,\n",
       " -0.008014020510017872,\n",
       " 0.011487409472465515,\n",
       " -0.0682276114821434,\n",
       " -0.017924875020980835,\n",
       " 0.04434453696012497,\n",
       " -0.05269253998994827,\n",
       " -0.028617778792977333,\n",
       " 0.030042432248592377,\n",
       " 0.018023991957306862,\n",
       " 0.047604773193597794,\n",
       " 0.04049001261591911,\n",
       " -0.04397466406226158,\n",
       " -0.009505531750619411,\n",
       " -0.06004882603883743,\n",
       " 0.07828395068645477,\n",
       " -0.09286340326070786,\n",
       " -0.057009126991033554,\n",
       " -0.12128610163927078,\n",
       " 0.06602700054645538,\n",
       " -0.012466278858482838,\n",
       " -0.028063200414180756,\n",
       " 0.09502089023590088,\n",
       " 0.047133490443229675,\n",
       " -0.0030486811883747578,\n",
       " 0.0033837570808827877,\n",
       " -0.013903982006013393,\n",
       " -0.016380975022912025,\n",
       " -0.015605838038027287,\n",
       " -0.007506497669965029,\n",
       " 0.013404281809926033,\n",
       " -0.05961357057094574,\n",
       " -0.014007498510181904,\n",
       " -0.20710785686969757,\n",
       " -0.0037803060840815306,\n",
       " 0.03781941160559654,\n",
       " 0.11752057820558548,\n",
       " 0.0400729738175869,\n",
       " -5.977744876872748e-06,\n",
       " 0.10365254431962967,\n",
       " 0.02883278764784336,\n",
       " -0.051656823605298996,\n",
       " -0.016408545896410942,\n",
       " 0.012698806822299957,\n",
       " -0.019343290477991104,\n",
       " 0.04570113494992256,\n",
       " -0.01330597884953022,\n",
       " 0.0350339412689209,\n",
       " 0.05377788096666336,\n",
       " 0.0015584426000714302,\n",
       " -0.0065524885430932045,\n",
       " 0.02739660069346428,\n",
       " 0.011016891337931156,\n",
       " 0.033947527408599854,\n",
       " -0.005753758363425732,\n",
       " 0.0907750204205513,\n",
       " 0.012298054993152618,\n",
       " 0.042411960661411285,\n",
       " 0.0029671331867575645,\n",
       " 0.05013569816946983,\n",
       " 0.022023310884833336,\n",
       " 0.022308416664600372,\n",
       " -0.0034933469723910093,\n",
       " 0.03204195573925972,\n",
       " -0.032427139580249786,\n",
       " 0.029004784300923347,\n",
       " -0.009510675445199013,\n",
       " -0.05515541508793831,\n",
       " -0.0474102646112442,\n",
       " -0.02328837290406227,\n",
       " -0.01573929749429226,\n",
       " 0.0483638159930706,\n",
       " -0.021385975182056427,\n",
       " -0.06142178550362587,\n",
       " -0.022615281865000725,\n",
       " -0.014831062406301498,\n",
       " 0.07991470396518707,\n",
       " 0.0036327179986983538,\n",
       " -0.02114710956811905,\n",
       " 0.023610014468431473,\n",
       " -0.02409001812338829,\n",
       " -0.021092843264341354,\n",
       " -0.024287885054945946,\n",
       " 0.006383005529642105,\n",
       " -0.038007449358701706,\n",
       " 0.03476586937904358,\n",
       " 0.06497269868850708,\n",
       " -0.018791617825627327,\n",
       " 0.013526389375329018,\n",
       " 0.042733561247587204,\n",
       " -0.0032215602695941925,\n",
       " -0.0237386766821146,\n",
       " -0.00020074790518265218,\n",
       " -0.00255844509229064,\n",
       " -0.0032308355439454317,\n",
       " 0.06237122043967247,\n",
       " -0.003723345696926117,\n",
       " 0.01523459330201149]"
      ]
     },
     "execution_count": 7,
     "metadata": {},
     "output_type": "execute_result"
    }
   ],
   "source": [
    "huggingface_embeddings.embed_query(chunks[0].page_content)"
   ]
  },
  {
   "cell_type": "code",
   "execution_count": 19,
   "metadata": {},
   "outputs": [],
   "source": [
    "# Assuming 'chunks' is your list of documents and 'huggingface_embeddings' is your embedding function\n",
    "# embeddings = huggingface_embeddings.embed_documents(docs)\n",
    "\n",
    "# Create the FAISS vectorstore\n",
    "vectorstore = FAISS.from_documents(chunks, embedding=huggingface_embeddings)\n",
    "vectorstore.save_local(\"faiss_index\")"
   ]
  },
  {
   "cell_type": "code",
   "execution_count": 18,
   "metadata": {},
   "outputs": [],
   "source": [
    "retriever = vectorstore.as_retriever(search_type=\"similarity\", search_kwargs={\"k\": 6})"
   ]
  },
  {
   "cell_type": "code",
   "execution_count": 21,
   "metadata": {},
   "outputs": [],
   "source": [
    "vectorstore = FAISS.load_local(\"faiss_index\", embeddings=huggingface_embeddings, allow_dangerous_deserialization=True)"
   ]
  },
  {
   "cell_type": "code",
   "execution_count": 22,
   "metadata": {},
   "outputs": [
    {
     "name": "stdout",
     "output_type": "stream",
     "text": [
      "question: Can I return a product if I changed my mind?\n",
      "answer: Yes, you can return a product if you changed your mind. Please ensure the product is in its original condition and packaging, and refer to our return policy for instructions.\n"
     ]
    }
   ],
   "source": [
    "## Query using Similarity Search\n",
    "query=\"Can I return a product if I changed my mind?\"\n",
    "relevant_docments=vectorstore.similarity_search(query)\n",
    "# relevant_docments=retriever\n",
    "\n",
    "print(relevant_docments[0].page_content)"
   ]
  },
  {
   "cell_type": "code",
   "execution_count": 23,
   "metadata": {},
   "outputs": [],
   "source": [
    "chat = ChatGroq(\n",
    "    temperature=0,\n",
    "    model=\"llama3-70b-8192\"\n",
    ")"
   ]
  },
  {
   "cell_type": "code",
   "execution_count": 12,
   "metadata": {},
   "outputs": [
    {
     "name": "stderr",
     "output_type": "stream",
     "text": [
      "t:\\MakTek Task\\env\\Lib\\site-packages\\langchain_core\\_api\\deprecation.py:139: LangChainDeprecationWarning: The class `ChatHuggingFace` was deprecated in LangChain 0.0.37 and will be removed in 0.3. An updated version of the class exists in the langchain-huggingface package and should be used instead. To use it run `pip install -U langchain-huggingface` and import as `from langchain_huggingface import ChatHuggingFace`.\n",
      "  warn_deprecated(\n"
     ]
    },
    {
     "data": {
      "application/vnd.jupyter.widget-view+json": {
       "model_id": "94636c1f18d14723a78e7fa5c1d7c7aa",
       "version_major": 2,
       "version_minor": 0
      },
      "text/plain": [
       "tokenizer_config.json:   0%|          | 0.00/50.6k [00:00<?, ?B/s]"
      ]
     },
     "metadata": {},
     "output_type": "display_data"
    },
    {
     "name": "stderr",
     "output_type": "stream",
     "text": [
      "t:\\MakTek Task\\env\\Lib\\site-packages\\huggingface_hub\\file_download.py:157: UserWarning: `huggingface_hub` cache-system uses symlinks by default to efficiently store duplicated files but your machine does not support them in C:\\Users\\DELL\\.cache\\huggingface\\hub\\models--meta-llama--Meta-Llama-3-8B. Caching files will still work but in a degraded version that might require more space on your disk. This warning can be disabled by setting the `HF_HUB_DISABLE_SYMLINKS_WARNING` environment variable. For more details, see https://huggingface.co/docs/huggingface_hub/how-to-cache#limitations.\n",
      "To support symlinks on Windows, you either need to activate Developer Mode or to run Python as an administrator. In order to see activate developer mode, see this article: https://docs.microsoft.com/en-us/windows/apps/get-started/enable-your-device-for-development\n",
      "  warnings.warn(message)\n"
     ]
    },
    {
     "data": {
      "application/vnd.jupyter.widget-view+json": {
       "model_id": "3bc15f14981a4851baf19d049ee2109c",
       "version_major": 2,
       "version_minor": 0
      },
      "text/plain": [
       "tokenizer.json:   0%|          | 0.00/9.09M [00:00<?, ?B/s]"
      ]
     },
     "metadata": {},
     "output_type": "display_data"
    },
    {
     "data": {
      "application/vnd.jupyter.widget-view+json": {
       "model_id": "b0712ec7474f4905b5422f224f9ff582",
       "version_major": 2,
       "version_minor": 0
      },
      "text/plain": [
       "special_tokens_map.json:   0%|          | 0.00/73.0 [00:00<?, ?B/s]"
      ]
     },
     "metadata": {},
     "output_type": "display_data"
    },
    {
     "name": "stderr",
     "output_type": "stream",
     "text": [
      "Special tokens have been added in the vocabulary, make sure the associated word embeddings are fine-tuned or trained.\n"
     ]
    }
   ],
   "source": [
    "from langchain_community.llms import HuggingFaceHub\n",
    "\n",
    "llm=HuggingFaceHub(repo_id=\"meta-llama/Meta-Llama-3-8B\")\n",
    "# llm = HuggingFaceHub(repo_id=\"Tayyab-44/Phi-3-8B-Instruct-Customer-Support-RAG\") \n",
    "chat_model = ChatHuggingFace(llm=llm)"
   ]
  },
  {
   "cell_type": "code",
   "execution_count": 24,
   "metadata": {},
   "outputs": [],
   "source": [
    "PROMPT_TEMPLATE =  \"\"\"Virtual Assistant: You're in a bustling virtual marketplace where customers seek assistance. Your task is to help customers by providing accurate answers to their inquiries using the given information.\n",
    "\n",
    "Context:\n",
    "{context}\n",
    "\n",
    "Customer's Question:\n",
    "{question}\n",
    "\"\"\"\n",
    "\n",
    "prompt=PromptTemplate(template=PROMPT_TEMPLATE,input_variables=[\"context\",\"question\"])"
   ]
  },
  {
   "cell_type": "code",
   "execution_count": 25,
   "metadata": {},
   "outputs": [],
   "source": [
    "retrievalQA=RetrievalQA.from_chain_type(\n",
    "    llm=chat,\n",
    "    chain_type=\"stuff\",\n",
    "    retriever=retriever,\n",
    "    return_source_documents=True,\n",
    "    chain_type_kwargs={\"prompt\":prompt}\n",
    ")"
   ]
  },
  {
   "cell_type": "code",
   "execution_count": 26,
   "metadata": {},
   "outputs": [],
   "source": [
    "query=\"\"\"Can I order a product if it is listed as 'coming soon' and not available for pre-order?\"\"\""
   ]
  },
  {
   "cell_type": "code",
   "execution_count": 27,
   "metadata": {},
   "outputs": [
    {
     "name": "stdout",
     "output_type": "stream",
     "text": [
      "If a product is listed as 'coming soon' but not available for pre-order, you will need to wait until it is officially released and becomes available for purchase.\n"
     ]
    }
   ],
   "source": [
    "# Call the QA chain with our query.\n",
    "result = retrievalQA.invoke({\"query\": query})\n",
    "print(result['result'])"
   ]
  },
  {
   "cell_type": "code",
   "execution_count": null,
   "metadata": {},
   "outputs": [],
   "source": []
  }
 ],
 "metadata": {
  "kernelspec": {
   "display_name": "env",
   "language": "python",
   "name": "python3"
  },
  "language_info": {
   "codemirror_mode": {
    "name": "ipython",
    "version": 3
   },
   "file_extension": ".py",
   "mimetype": "text/x-python",
   "name": "python",
   "nbconvert_exporter": "python",
   "pygments_lexer": "ipython3",
   "version": "3.12.3"
  }
 },
 "nbformat": 4,
 "nbformat_minor": 2
}
