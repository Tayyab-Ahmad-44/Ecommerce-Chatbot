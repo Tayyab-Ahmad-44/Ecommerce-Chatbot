{
 "cells": [
  {
   "cell_type": "code",
   "execution_count": 15,
   "metadata": {},
   "outputs": [],
   "source": [
    "import os\n",
    "import pandas as pd\n",
    "from langchain_experimental.agents import create_pandas_dataframe_agent\n",
    "from langchain_groq import ChatGroq\n",
    "import groq\n",
    "from langchain_experimental.agents import create_csv_agent\n",
    "from langchain.agents.agent_types import AgentType\n",
    "from dotenv import load_dotenv"
   ]
  },
  {
   "cell_type": "code",
   "execution_count": 41,
   "metadata": {},
   "outputs": [
    {
     "data": {
      "text/plain": [
       "True"
      ]
     },
     "execution_count": 41,
     "metadata": {},
     "output_type": "execute_result"
    }
   ],
   "source": [
    "load_dotenv()"
   ]
  },
  {
   "cell_type": "code",
   "execution_count": 42,
   "metadata": {},
   "outputs": [],
   "source": [
    "groq_client = groq.Client()"
   ]
  },
  {
   "cell_type": "code",
   "execution_count": 18,
   "metadata": {},
   "outputs": [],
   "source": [
    "from typing import Any\n",
    "\n",
    "def custom_groq_agent(df: pd.DataFrame, **kwargs) -> Any:\n",
    "    # Process the DataFrame using Groq API\n",
    "    response = groq_client.process_dataframe(df)\n",
    "    return response\n",
    "\n",
    "# Mock function for demonstration (replace with actual API call)\n",
    "class MockGroqClient:\n",
    "    def process_dataframe(self, df):\n",
    "        # Example processing (replace with actual logic)\n",
    "        return df.describe()\n",
    "\n",
    "groq_client = MockGroqClient()"
   ]
  },
  {
   "cell_type": "code",
   "execution_count": 24,
   "metadata": {},
   "outputs": [],
   "source": [
    "# Use the custom agent function with Hugging Face tools\n",
    "pd_agent = create_pandas_dataframe_agent(ChatGroq(temperature=0.1), df, verbose=True, allow_dangerous_code=True)\n"
   ]
  },
  {
   "cell_type": "code",
   "execution_count": 25,
   "metadata": {},
   "outputs": [
    {
     "data": {
      "text/html": [
       "<div>\n",
       "<style scoped>\n",
       "    .dataframe tbody tr th:only-of-type {\n",
       "        vertical-align: middle;\n",
       "    }\n",
       "\n",
       "    .dataframe tbody tr th {\n",
       "        vertical-align: top;\n",
       "    }\n",
       "\n",
       "    .dataframe thead th {\n",
       "        text-align: right;\n",
       "    }\n",
       "</style>\n",
       "<table border=\"1\" class=\"dataframe\">\n",
       "  <thead>\n",
       "    <tr style=\"text-align: right;\">\n",
       "      <th></th>\n",
       "      <th>question</th>\n",
       "      <th>answer</th>\n",
       "    </tr>\n",
       "  </thead>\n",
       "  <tbody>\n",
       "    <tr>\n",
       "      <th>0</th>\n",
       "      <td>How can I create an account?</td>\n",
       "      <td>To create an account, click on the 'Sign Up' b...</td>\n",
       "    </tr>\n",
       "    <tr>\n",
       "      <th>1</th>\n",
       "      <td>What payment methods do you accept?</td>\n",
       "      <td>We accept major credit cards, debit cards, and...</td>\n",
       "    </tr>\n",
       "    <tr>\n",
       "      <th>2</th>\n",
       "      <td>How can I track my order?</td>\n",
       "      <td>You can track your order by logging into your ...</td>\n",
       "    </tr>\n",
       "    <tr>\n",
       "      <th>3</th>\n",
       "      <td>What is your return policy?</td>\n",
       "      <td>Our return policy allows you to return product...</td>\n",
       "    </tr>\n",
       "    <tr>\n",
       "      <th>4</th>\n",
       "      <td>Can I cancel my order?</td>\n",
       "      <td>You can cancel your order if it has not been s...</td>\n",
       "    </tr>\n",
       "    <tr>\n",
       "      <th>5</th>\n",
       "      <td>How long does shipping take?</td>\n",
       "      <td>Shipping times vary depending on the destinati...</td>\n",
       "    </tr>\n",
       "    <tr>\n",
       "      <th>6</th>\n",
       "      <td>Do you offer international shipping?</td>\n",
       "      <td>Yes, we offer international shipping to select...</td>\n",
       "    </tr>\n",
       "    <tr>\n",
       "      <th>7</th>\n",
       "      <td>What should I do if my package is lost or dama...</td>\n",
       "      <td>If your package is lost or damaged during tran...</td>\n",
       "    </tr>\n",
       "    <tr>\n",
       "      <th>8</th>\n",
       "      <td>Can I change my shipping address after placing...</td>\n",
       "      <td>If you need to change your shipping address, p...</td>\n",
       "    </tr>\n",
       "    <tr>\n",
       "      <th>9</th>\n",
       "      <td>How can I contact customer support?</td>\n",
       "      <td>You can contact our customer support team by p...</td>\n",
       "    </tr>\n",
       "  </tbody>\n",
       "</table>\n",
       "</div>"
      ],
      "text/plain": [
       "                                            question  \\\n",
       "0                       How can I create an account?   \n",
       "1                What payment methods do you accept?   \n",
       "2                          How can I track my order?   \n",
       "3                        What is your return policy?   \n",
       "4                             Can I cancel my order?   \n",
       "5                       How long does shipping take?   \n",
       "6               Do you offer international shipping?   \n",
       "7  What should I do if my package is lost or dama...   \n",
       "8  Can I change my shipping address after placing...   \n",
       "9                How can I contact customer support?   \n",
       "\n",
       "                                              answer  \n",
       "0  To create an account, click on the 'Sign Up' b...  \n",
       "1  We accept major credit cards, debit cards, and...  \n",
       "2  You can track your order by logging into your ...  \n",
       "3  Our return policy allows you to return product...  \n",
       "4  You can cancel your order if it has not been s...  \n",
       "5  Shipping times vary depending on the destinati...  \n",
       "6  Yes, we offer international shipping to select...  \n",
       "7  If your package is lost or damaged during tran...  \n",
       "8  If you need to change your shipping address, p...  \n",
       "9  You can contact our customer support team by p...  "
      ]
     },
     "execution_count": 25,
     "metadata": {},
     "output_type": "execute_result"
    }
   ],
   "source": [
    "df = pd.read_csv('train_expanded.csv')\n",
    "df[0:10]"
   ]
  },
  {
   "cell_type": "code",
   "execution_count": 38,
   "metadata": {},
   "outputs": [
    {
     "name": "stdout",
     "output_type": "stream",
     "text": [
      "\n",
      "\n",
      "\u001b[1m> Entering new AgentExecutor chain...\u001b[0m\n",
      "\u001b[32;1m\u001b[1;3mThought: I need to check if there is any information about international shipping in the dataframe.\n",
      "Action: python_repl_ast\n",
      "Action Input: df[df['question'].str.contains('country')]\u001b[0m\u001b[36;1m\u001b[1;3m                                             question  \\\n",
      "33  Can I order a product for delivery to a differ...   \n",
      "\n",
      "                                               answer  \n",
      "33  Yes, we offer international shipping to select...  \u001b[0m\u001b[32;1m\u001b[1;3mI now know the final answer\n",
      "Final Answer: Yes, the dataframe indicates that you can order a product for delivery to a different country. Specific instructions for international shipping can be found by searching the answer column for \"country\".\u001b[0m\n",
      "\n",
      "\u001b[1m> Finished chain.\u001b[0m\n"
     ]
    },
    {
     "data": {
      "text/plain": [
       "'Yes, the dataframe indicates that you can order a product for delivery to a different country. Specific instructions for international shipping can be found by searching the answer column for \"country\".'"
      ]
     },
     "execution_count": 38,
     "metadata": {},
     "output_type": "execute_result"
    }
   ],
   "source": [
    "pd_agent.run(\"Can I order a product for delivery to a different country?\")"
   ]
  },
  {
   "cell_type": "code",
   "execution_count": 40,
   "metadata": {},
   "outputs": [
    {
     "name": "stdout",
     "output_type": "stream",
     "text": [
      "\n",
      "\n",
      "\u001b[1m> Entering new AgentExecutor chain...\u001b[0m\n",
      "\u001b[32;1m\u001b[1;3mThought: I need to check if there's any information in the dataframe that suggests whether they deliver to different countries or not.\n",
      "\n",
      "Action: python_repl_ast\n",
      "Action Input: df.columns\u001b[0m\u001b[36;1m\u001b[1;3mIndex(['question', 'answer'], dtype='object')\u001b[0m\u001b[32;1m\u001b[1;3mThe observation shows that the dataframe has two columns: 'question' and 'answer'. There is no column that explicitly mentions delivery countries or international shipping.\n",
      "\n",
      "Action: python_repl_ast\n",
      "Action Input: df['answer'].str.contains('country|international|shipping')\u001b[0m\u001b[36;1m\u001b[1;3m0      False\n",
      "1      False\n",
      "2      False\n",
      "3      False\n",
      "4      False\n",
      "       ...  \n",
      "195    False\n",
      "196    False\n",
      "197    False\n",
      "198    False\n",
      "199    False\n",
      "Name: answer, Length: 200, dtype: bool\u001b[0m\u001b[32;1m\u001b[1;3mThe observation shows that none of the answers in the dataframe contain the words 'country', 'international', or 'shipping', which suggests that there is no explicit information about delivering products to different countries.\n",
      "\n",
      "Action: python_repl_ast\n",
      "Action Input: df\u001b[0m\u001b[36;1m\u001b[1;3m                                              question  \\\n",
      "0                         How can I create an account?   \n",
      "1                  What payment methods do you accept?   \n",
      "2                            How can I track my order?   \n",
      "3                          What is your return policy?   \n",
      "4                               Can I cancel my order?   \n",
      "..                                                 ...   \n",
      "195             Do you offer a satisfaction guarantee?   \n",
      "196         How can I apply for a job at your company?   \n",
      "197             What is the warranty on your products?   \n",
      "198  Can I request a refund if the price drops afte...   \n",
      "199                       How can I reset my password?   \n",
      "\n",
      "                                                answer  \n",
      "0    To create an account, click on the 'Sign Up' b...  \n",
      "1    We accept major credit cards, debit cards, and...  \n",
      "2    You can track your order by logging into your ...  \n",
      "3    Our return policy allows you to return product...  \n",
      "4    You can cancel your order if it has not been s...  \n",
      "..                                                 ...  \n",
      "195  Yes, we offer a satisfaction guarantee on our ...  \n",
      "196  To apply for a job at our company, visit our C...  \n",
      "197  The warranty on our products varies by item. P...  \n",
      "198  If the price of a product drops within 7 days ...  \n",
      "199  To reset your password, click on the 'Forgot P...  \n",
      "\n",
      "[200 rows x 2 columns]\u001b[0m\u001b[32;1m\u001b[1;3mThought: I now know the final answer.\n",
      "\n",
      "Final Answer: The dataframe does not provide any information about delivering products to different countries, so it is unclear whether they deliver to different countries or not.\u001b[0m\n",
      "\n",
      "\u001b[1m> Finished chain.\u001b[0m\n"
     ]
    },
    {
     "data": {
      "text/plain": [
       "'The dataframe does not provide any information about delivering products to different countries, so it is unclear whether they deliver to different countries or not.'"
      ]
     },
     "execution_count": 40,
     "metadata": {},
     "output_type": "execute_result"
    }
   ],
   "source": [
    "csv_agent = create_csv_agent(ChatGroq(temperature=0,\n",
    "   model=\"llama3-70b-8192\"), \n",
    "  'train_expanded.csv',\n",
    "   verbose=True,\n",
    "   agent_type=AgentType.ZERO_SHOT_REACT_DESCRIPTION,\n",
    "   allow_dangerous_code=True\n",
    "   )\n",
    "\n",
    "csv_agent.run('Can I order a product for delivery to a different country?')"
   ]
  },
  {
   "cell_type": "code",
   "execution_count": null,
   "metadata": {},
   "outputs": [],
   "source": []
  }
 ],
 "metadata": {
  "kernelspec": {
   "display_name": "env",
   "language": "python",
   "name": "python3"
  },
  "language_info": {
   "codemirror_mode": {
    "name": "ipython",
    "version": 3
   },
   "file_extension": ".py",
   "mimetype": "text/x-python",
   "name": "python",
   "nbconvert_exporter": "python",
   "pygments_lexer": "ipython3",
   "version": "3.12.4"
  }
 },
 "nbformat": 4,
 "nbformat_minor": 2
}
